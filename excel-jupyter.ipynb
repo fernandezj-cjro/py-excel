{
 "cells": [
  {
   "cell_type": "code",
   "execution_count": 4,
   "metadata": {},
   "outputs": [],
   "source": [
    "from faker import Faker\n",
    "from faker import Factory\n",
    "import random\n",
    "import pandas as pd"
   ]
  },
  {
   "cell_type": "code",
   "execution_count": 2,
   "metadata": {},
   "outputs": [
    {
     "name": "stdout",
     "output_type": "stream",
     "text": [
      "Jesse Barr\n"
     ]
    }
   ],
   "source": [
    "fake = Factory.create()\n",
    "print(fake.name())"
   ]
  },
  {
   "cell_type": "code",
   "execution_count": 6,
   "metadata": {},
   "outputs": [],
   "source": [
    "def create_rows(num=10):\n",
    "    output = [{\"name\":fake.name(),\n",
    "                \"address\":fake.address(),\n",
    "                \"name\":fake.name(),\n",
    "                \"email\":fake.email(),\n",
    "                \"sentence\":fake.bs(),\n",
    "                \"address\":fake.address(),\n",
    "                \"city\":fake.city(),\n",
    "                \"state\":fake.state(),\n",
    "                \"datetime\":fake.date_time(),\n",
    "                \"comment\":fake.catch_phrase(),\n",
    "                \"score\":random.randint(0,11)} for x in range(num)]\n",
    "    return output"
   ]
  },
  {
   "cell_type": "code",
   "execution_count": 9,
   "metadata": {},
   "outputs": [
    {
     "data": {
      "text/html": [
       "<div>\n",
       "<style scoped>\n",
       "    .dataframe tbody tr th:only-of-type {\n",
       "        vertical-align: middle;\n",
       "    }\n",
       "\n",
       "    .dataframe tbody tr th {\n",
       "        vertical-align: top;\n",
       "    }\n",
       "\n",
       "    .dataframe thead th {\n",
       "        text-align: right;\n",
       "    }\n",
       "</style>\n",
       "<table border=\"1\" class=\"dataframe\">\n",
       "  <thead>\n",
       "    <tr style=\"text-align: right;\">\n",
       "      <th></th>\n",
       "      <th>name</th>\n",
       "      <th>address</th>\n",
       "      <th>email</th>\n",
       "      <th>sentence</th>\n",
       "      <th>city</th>\n",
       "      <th>state</th>\n",
       "      <th>datetime</th>\n",
       "      <th>comment</th>\n",
       "      <th>score</th>\n",
       "    </tr>\n",
       "  </thead>\n",
       "  <tbody>\n",
       "    <tr>\n",
       "      <th>0</th>\n",
       "      <td>Travis Zamora</td>\n",
       "      <td>58564 Nancy Gardens\\nHillhaven, ID 43448</td>\n",
       "      <td>coxcatherine@example.com</td>\n",
       "      <td>innovate 24/7 convergence</td>\n",
       "      <td>Lake Steven</td>\n",
       "      <td>Utah</td>\n",
       "      <td>1974-02-27 13:38:08</td>\n",
       "      <td>Business-focused client-driven initiative</td>\n",
       "      <td>5</td>\n",
       "    </tr>\n",
       "    <tr>\n",
       "      <th>1</th>\n",
       "      <td>Breanna Robinson</td>\n",
       "      <td>4186 John Ville Suite 118\\nBrandyville, PR 95804</td>\n",
       "      <td>melaniesanchez@example.com</td>\n",
       "      <td>whiteboard front-end initiatives</td>\n",
       "      <td>Morrisland</td>\n",
       "      <td>Arkansas</td>\n",
       "      <td>1982-08-07 00:18:30</td>\n",
       "      <td>Optimized next generation adapter</td>\n",
       "      <td>8</td>\n",
       "    </tr>\n",
       "    <tr>\n",
       "      <th>2</th>\n",
       "      <td>Veronica Williams</td>\n",
       "      <td>2128 Maynard Skyway Suite 383\\nLake Elizabethv...</td>\n",
       "      <td>wbaker@example.org</td>\n",
       "      <td>disintermediate transparent metrics</td>\n",
       "      <td>East Jasonborough</td>\n",
       "      <td>Rhode Island</td>\n",
       "      <td>2010-11-01 01:23:56</td>\n",
       "      <td>Extended executive workforce</td>\n",
       "      <td>5</td>\n",
       "    </tr>\n",
       "    <tr>\n",
       "      <th>3</th>\n",
       "      <td>Scott Gilbert</td>\n",
       "      <td>2254 Patricia Union Apt. 849\\nNew Jennifer, WY...</td>\n",
       "      <td>danieljones@example.com</td>\n",
       "      <td>empower next-generation paradigms</td>\n",
       "      <td>Susanstad</td>\n",
       "      <td>North Carolina</td>\n",
       "      <td>1970-12-06 02:58:46</td>\n",
       "      <td>Quality-focused national archive</td>\n",
       "      <td>2</td>\n",
       "    </tr>\n",
       "    <tr>\n",
       "      <th>4</th>\n",
       "      <td>Karen Meyer</td>\n",
       "      <td>12617 Jennifer Crossing\\nLake Tracyton, HI 31898</td>\n",
       "      <td>randall69@example.org</td>\n",
       "      <td>leverage e-business info-mediaries</td>\n",
       "      <td>Port Joseph</td>\n",
       "      <td>Hawaii</td>\n",
       "      <td>2002-12-06 18:41:09</td>\n",
       "      <td>Total tangible secured line</td>\n",
       "      <td>4</td>\n",
       "    </tr>\n",
       "  </tbody>\n",
       "</table>\n",
       "</div>"
      ],
      "text/plain": [
       "                name                                            address  \\\n",
       "0      Travis Zamora           58564 Nancy Gardens\\nHillhaven, ID 43448   \n",
       "1   Breanna Robinson   4186 John Ville Suite 118\\nBrandyville, PR 95804   \n",
       "2  Veronica Williams  2128 Maynard Skyway Suite 383\\nLake Elizabethv...   \n",
       "3      Scott Gilbert  2254 Patricia Union Apt. 849\\nNew Jennifer, WY...   \n",
       "4        Karen Meyer   12617 Jennifer Crossing\\nLake Tracyton, HI 31898   \n",
       "\n",
       "                        email                             sentence  \\\n",
       "0    coxcatherine@example.com            innovate 24/7 convergence   \n",
       "1  melaniesanchez@example.com     whiteboard front-end initiatives   \n",
       "2          wbaker@example.org  disintermediate transparent metrics   \n",
       "3     danieljones@example.com    empower next-generation paradigms   \n",
       "4       randall69@example.org   leverage e-business info-mediaries   \n",
       "\n",
       "                city           state            datetime  \\\n",
       "0        Lake Steven            Utah 1974-02-27 13:38:08   \n",
       "1         Morrisland        Arkansas 1982-08-07 00:18:30   \n",
       "2  East Jasonborough    Rhode Island 2010-11-01 01:23:56   \n",
       "3          Susanstad  North Carolina 1970-12-06 02:58:46   \n",
       "4        Port Joseph          Hawaii 2002-12-06 18:41:09   \n",
       "\n",
       "                                     comment  score  \n",
       "0  Business-focused client-driven initiative      5  \n",
       "1          Optimized next generation adapter      8  \n",
       "2               Extended executive workforce      5  \n",
       "3           Quality-focused national archive      2  \n",
       "4                Total tangible secured line      4  "
      ]
     },
     "execution_count": 9,
     "metadata": {},
     "output_type": "execute_result"
    }
   ],
   "source": [
    "df = create_rows(num=10)\n",
    "df = pd.DataFrame(df)\n",
    "df.head()"
   ]
  }
 ],
 "metadata": {
  "kernelspec": {
   "display_name": "base",
   "language": "python",
   "name": "python3"
  },
  "language_info": {
   "codemirror_mode": {
    "name": "ipython",
    "version": 3
   },
   "file_extension": ".py",
   "mimetype": "text/x-python",
   "name": "python",
   "nbconvert_exporter": "python",
   "pygments_lexer": "ipython3",
   "version": "3.9.13"
  },
  "orig_nbformat": 4,
  "vscode": {
   "interpreter": {
    "hash": "d3fb4346ebf256e3d063b614142b05c5cf63b9c302d29a44d4b92949551d7a67"
   }
  }
 },
 "nbformat": 4,
 "nbformat_minor": 2
}
