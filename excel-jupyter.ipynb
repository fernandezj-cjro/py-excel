{
 "cells": [
  {
   "cell_type": "code",
   "execution_count": 2,
   "metadata": {},
   "outputs": [],
   "source": [
    "from faker import Faker\n",
    "from faker import Factory\n",
    "import random\n",
    "import pandas as pd\n",
    "import os"
   ]
  },
  {
   "cell_type": "code",
   "execution_count": 3,
   "metadata": {},
   "outputs": [
    {
     "name": "stdout",
     "output_type": "stream",
     "text": [
      "Jose Martin\n"
     ]
    }
   ],
   "source": [
    "fake = Factory.create()\n",
    "print(fake.name())\n",
    "# Faker documentation:\n",
    "# https://faker.readthedocs.io/en/master/"
   ]
  },
  {
   "cell_type": "code",
   "execution_count": 4,
   "metadata": {},
   "outputs": [],
   "source": [
    "def create_rows(num=10):\n",
    "    output = [{ \"name\":fake.name(),\n",
    "                \"address\":fake.address(),\n",
    "                \"name\":fake.name(),\n",
    "                \"email\":fake.email(),\n",
    "                \"sentence\":fake.bs(),\n",
    "                \"address\":fake.address(),\n",
    "                \"city\":fake.city(),\n",
    "                \"state\":fake.state(),\n",
    "                \"datetime\":fake.date_time(),\n",
    "                \"comment\":fake.catch_phrase(),\n",
    "                \"score\":random.randint(0,10),\n",
    "                \"salary\":random.randint(800,5000)} for x in range(num+1)]\n",
    "    return output"
   ]
  },
  {
   "cell_type": "code",
   "execution_count": 5,
   "metadata": {},
   "outputs": [],
   "source": [
    "# if the csv and json files with customers data aren't available, it generates them.\n",
    "if not os.path.isfile('customers_data.csv'):\n",
    "    df = create_rows(500000)\n",
    "    df = pd.DataFrame(df)\n",
    "    df.to_csv(\"customers_data.csv\", sep=\"\\t\", header=True)"
   ]
  },
  {
   "cell_type": "code",
   "execution_count": null,
   "metadata": {},
   "outputs": [],
   "source": []
  }
 ],
 "metadata": {
  "kernelspec": {
   "display_name": "base",
   "language": "python",
   "name": "python3"
  },
  "language_info": {
   "codemirror_mode": {
    "name": "ipython",
    "version": 3
   },
   "file_extension": ".py",
   "mimetype": "text/x-python",
   "name": "python",
   "nbconvert_exporter": "python",
   "pygments_lexer": "ipython3",
   "version": "3.9.13"
  },
  "orig_nbformat": 4,
  "vscode": {
   "interpreter": {
    "hash": "d3fb4346ebf256e3d063b614142b05c5cf63b9c302d29a44d4b92949551d7a67"
   }
  }
 },
 "nbformat": 4,
 "nbformat_minor": 2
}
