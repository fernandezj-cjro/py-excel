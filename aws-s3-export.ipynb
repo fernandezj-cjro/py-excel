{
 "cells": [
  {
   "cell_type": "code",
   "execution_count": 3,
   "metadata": {},
   "outputs": [],
   "source": [
    "import configparser\n",
    "import boto3"
   ]
  },
  {
   "cell_type": "code",
   "execution_count": 18,
   "metadata": {},
   "outputs": [],
   "source": [
    "parser = configparser.ConfigParser()\n",
    "parser.read(\"file.config\")\n",
    "access_key = parser.get(\"aws_boto_credentials\",\"access_key\")\n",
    "secret_key = parser.get(\"aws_boto_credentials\",\"secret_access_key\")\n",
    "bucket_name = parser.get(\"aws_boto_credentials\",\"bucket_name\")"
   ]
  },
  {
   "cell_type": "code",
   "execution_count": 19,
   "metadata": {},
   "outputs": [],
   "source": [
    "s3 = boto3.client('s3',\n",
    "                  aws_access_key_id=access_key,\n",
    "                  aws_secret_access_key=secret_key)\n",
    "s3_file = \"customers_data.csv\"\n",
    "\n",
    "s3.upload_file(\"customers_data.csv\",bucket_name,s3_file)"
   ]
  }
 ],
 "metadata": {
  "kernelspec": {
   "display_name": "base",
   "language": "python",
   "name": "python3"
  },
  "language_info": {
   "codemirror_mode": {
    "name": "ipython",
    "version": 3
   },
   "file_extension": ".py",
   "mimetype": "text/x-python",
   "name": "python",
   "nbconvert_exporter": "python",
   "pygments_lexer": "ipython3",
   "version": "3.9.13"
  },
  "orig_nbformat": 4,
  "vscode": {
   "interpreter": {
    "hash": "d3fb4346ebf256e3d063b614142b05c5cf63b9c302d29a44d4b92949551d7a67"
   }
  }
 },
 "nbformat": 4,
 "nbformat_minor": 2
}
